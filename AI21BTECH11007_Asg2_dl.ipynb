{
  "cells": [
    {
      "cell_type": "code",
      "execution_count": 3,
      "metadata": {
        "id": "xijPwAsAUGNQ"
      },
      "outputs": [],
      "source": [
        "# Import the required libraries\n",
        "import torch\n",
        "from PIL import Image\n",
        "import torchvision.transforms as transforms\n",
        "from torch.nn.functional import pad\n",
        "from torchvision import datasets\n",
        "import matplotlib.pyplot as plt\n",
        "import numpy as np\n",
        "%matplotlib inline"
      ]
    },
    {
      "cell_type": "markdown",
      "metadata": {},
      "source": [
        "QUESTION 1"
      ]
    },
    {
      "cell_type": "code",
      "execution_count": 4,
      "metadata": {
        "id": "ekHcvanpUSsx"
      },
      "outputs": [
        {
          "name": "stdout",
          "output_type": "stream",
          "text": [
            "torch.Size([3, 615, 757])\n"
          ]
        }
      ],
      "source": [
        "# Read the image\n",
        "image = Image.open('image.jpg')\n",
        "\n",
        "# Define a transform to convert the image to tensor\n",
        "transform = transforms.ToTensor()\n",
        "# IMAGE DIMENSIONS\n",
        "\n",
        "input = transform(image)\n",
        "print(input.shape)\n",
        "C = input.shape[0]\n",
        "H = input.shape[1]\n",
        "W = input.shape[2]\n"
      ]
    },
    {
      "cell_type": "code",
      "execution_count": 5,
      "metadata": {
        "id": "5Mp-kJ0MUwn4"
      },
      "outputs": [],
      "source": [
        "#DEFINING NON LINEAR FUNNCTIONS\n",
        "def sigmoid(x):\n",
        "   return 1 / (1+torch.exp(-1*x))\n",
        "def RELU(x):\n",
        "   if x>0:\n",
        "    return x\n",
        "   else:\n",
        "    return 0\n",
        "def PRELU(x,a=0.1):\n",
        "  if x>0:\n",
        "    return x\n",
        "  else:\n",
        "    return a*x\n",
        "\n",
        "def tanh(x):\n",
        "  return torch.tanh(x)\n"
      ]
    },
    {
      "cell_type": "code",
      "execution_count": 6,
      "metadata": {
        "id": "GLK8R-oPcYV1"
      },
      "outputs": [],
      "source": [
        "#GENERATING RANDOM KERNEL\n",
        "\n",
        "kernel = torch.rand(1,3,300,300)\n"
      ]
    },
    {
      "cell_type": "code",
      "execution_count": 7,
      "metadata": {
        "id": "M3PrDQZGgOu0"
      },
      "outputs": [],
      "source": [
        "#DEFINING FUNCTION FOR ELEMENTWISE MULTIPLICATION IN MATRICES\n",
        "def func(M1,M2):\n",
        "  c,h,w= M1.shape\n",
        "  M = torch.mul(M1,M2)\n",
        "  value = torch.sum(M)\n",
        "  return value"
      ]
    },
    {
      "cell_type": "code",
      "execution_count": 8,
      "metadata": {
        "id": "H5x8u1UERl-M"
      },
      "outputs": [],
      "source": [
        "# DEFINING CONVOLUTION FUNCION \n",
        "def conv(input,kernel,nonlin,p,s):\n",
        "  D = kernel.shape[0]\n",
        "  c = kernel.shape[1]\n",
        "  h = kernel.shape[2]\n",
        "  w = kernel.shape[3]\n",
        "  C = input.shape[0]\n",
        "  H = input.shape[1]\n",
        "  W = input.shape[2]\n",
        "  \n",
        "  input = pad(input,(p,p,p,p),value=0)\n",
        "  output = torch.zeros((D,int((H-h+2*p+1)/s),int((W-w+2*p+1)/s)))\n",
        "  # print(output.shape)\n",
        "  for i in range(0,D):\n",
        "     for j in range(0,int((H-h+2*p+1)/s)):\n",
        "       for k in range(0,int((W-w+2*p+1)/s)):\n",
        "         output[i][j][k] = func(input[:,j*s:j*s+h,k*s:k*s+h],kernel[i,:,:,:])\n",
        "  return nonlin(output)"
      ]
    },
    {
      "cell_type": "code",
      "execution_count": 9,
      "metadata": {
        "id": "4Tu7R8WGeig5"
      },
      "outputs": [
        {
          "name": "stdout",
          "output_type": "stream",
          "text": [
            "torch.Size([1, 316, 458])\n",
            "tensor([[[1., 1., 1.,  ..., 1., 1., 1.],\n",
            "         [1., 1., 1.,  ..., 1., 1., 1.],\n",
            "         [1., 1., 1.,  ..., 1., 1., 1.],\n",
            "         ...,\n",
            "         [1., 1., 1.,  ..., 1., 1., 1.],\n",
            "         [1., 1., 1.,  ..., 1., 1., 1.],\n",
            "         [1., 1., 1.,  ..., 1., 1., 1.]]])\n"
          ]
        }
      ],
      "source": [
        "#PRINTING RESULT\n",
        "\n",
        "result =conv(input,kernel,sigmoid,0,1)\n",
        "print(result.shape)\n",
        "print(result)"
      ]
    },
    {
      "cell_type": "markdown",
      "metadata": {},
      "source": [
        "QUESTION 2"
      ]
    },
    {
      "cell_type": "code",
      "execution_count": 10,
      "metadata": {
        "id": "p51v9-RXfoUJ"
      },
      "outputs": [],
      "source": [
        "#DEFINING FUNCTION FOR MAXIMUM POOLING\n",
        "\n",
        "def max_pooling(input,s):\n",
        "    C = input.shape[0]\n",
        "    H = input.shape[1]\n",
        "    W = input.shape[2]\n",
        "    output2 = torch.zeros(C,int(H/s),int(W/s))\n",
        "    for i in range(0,C):\n",
        "     for j in range(0,int(H/s)):\n",
        "       for k in range(0,int(W/s)):\n",
        "        output2[i][j][k] = torch.max(input[:,j*s:j*s+s,k*s:k*s+s])\n",
        "    return output2"
      ]
    },
    {
      "cell_type": "code",
      "execution_count": 11,
      "metadata": {},
      "outputs": [],
      "source": [
        "#DEFINIMG FUNCTION FOR AVERAGE POOLING\n",
        "def average_pooling(input,s):\n",
        "    C = input.shape[0]\n",
        "    H = input.shape[1]\n",
        "    W = input.shape[2]\n",
        "    output3 = torch.zeros(C,np.floor(H/s),np.floor(W/s))\n",
        "    for i in range(0,C):\n",
        "     for j in range(0,np.floor(H/s)):\n",
        "       for k in range(0,np.floor(W/s)):\n",
        "        output3[i][j][k] = torch.mean(input[:,j*s:j*s+s,k*s:k*s+s])\n",
        "    return output3"
      ]
    },
    {
      "cell_type": "markdown",
      "metadata": {},
      "source": [
        "QUESTION 3"
      ]
    },
    {
      "cell_type": "code",
      "execution_count": 12,
      "metadata": {},
      "outputs": [],
      "source": [
        "#DEFINING FUNCTION FOR CONVOLUTION LAYER\n",
        "#IT TAKES KERNEL SIZE AND NO OF CHANNELS AS INPUT AND WE GENERATE A RANDOM KERNEL OF THE FOLLOWING DIMENSIONS NEXT WE WILL CALL CONVOLUTION FUNCTION\n",
        "\n",
        "def conv_layer(input,no_ofchannels,kernel_size,nonlin,p,s):\n",
        "    C = input.shape[0]\n",
        "    new_kernel = torch.rand([no_ofchannels,C,kernel_size[0],kernel_size[1]])\n",
        "    result_final = conv(input,new_kernel,nonlin,p,s)\n",
        "    return result_final"
      ]
    },
    {
      "cell_type": "markdown",
      "metadata": {},
      "source": [
        "QUESTION 4"
      ]
    },
    {
      "cell_type": "code",
      "execution_count": 13,
      "metadata": {},
      "outputs": [],
      "source": [
        "# DEFINING FUNCTIONS FOR POOLING LAYER ACCORDING TO WHETHER WE WANT AVERAGE OR MAXIMUM\n",
        "def pooling_layer(input,s,avg):\n",
        "    if avg == True:\n",
        "        return average_pooling(input,s)\n",
        "    else :\n",
        "        return max_pooling(input,s)\n",
        "# DEFINING GAP LAYER \n",
        "def gap(input):\n",
        "    print(input.shape)\n",
        "    result = torch.mean(input,0)\n",
        "    print(result.shape)\n",
        "    result = torch.mean(result,0)\n",
        "    print(result.shape)\n",
        "    return result"
      ]
    },
    {
      "cell_type": "markdown",
      "metadata": {},
      "source": [
        "QUESTION 5"
      ]
    },
    {
      "cell_type": "code",
      "execution_count": 14,
      "metadata": {},
      "outputs": [],
      "source": [
        "# DEFINING FLATTENING FUNCTION USING RESHAPE\n",
        "def flatten(input,out_dimension):\n",
        "    reshaped_input = torch.reshape(input,(1,-1))\n",
        "    weight = torch.rand((reshaped_input.shape[1],out_dimension))\n",
        "    result = torch.matmul(reshaped_input,weight)\n",
        "    return result[0]"
      ]
    },
    {
      "cell_type": "markdown",
      "metadata": {},
      "source": [
        "QUESTION 6"
      ]
    },
    {
      "cell_type": "code",
      "execution_count": 15,
      "metadata": {},
      "outputs": [],
      "source": [
        "#DEFINING MLP FUNCTION \n",
        "def mlp(input,nonlin,noof_hidlayers,sizes_hid,out_size):\n",
        "    result = input\n",
        "    sizes_hid.append(out_size)\n",
        "    for i in range(0,noof_hidlayers+1):\n",
        "        weights = torch.rand([result.shape[0],sizes_hid[i]])\n",
        "        result = torch.matmul(result,weights)\n",
        "        result = nonlin(result)\n",
        "    \n",
        "    result = torch.exp(result)\n",
        "    a = torch.sum(result)\n",
        "    result = result/a\n",
        "\n",
        "    return result"
      ]
    },
    {
      "cell_type": "markdown",
      "metadata": {},
      "source": [
        "QUESTION 7"
      ]
    },
    {
      "cell_type": "code",
      "execution_count": 19,
      "metadata": {},
      "outputs": [],
      "source": [
        "#DEFINING FEED FORWARD FUNCTION IN THAT WE ARE IMPLEMENTING THE ABOVE WRITTEN FUNCTIONS\n",
        "def feed_forward(input):\n",
        "    image = conv_layer(input,16,(3,3),sigmoid,0,1)\n",
        "    image_nxt = max_pooling(image,2)\n",
        "    image_nxt2 = conv_layer(image_nxt,8,(3,3),sigmoid,0,1)\n",
        "    image_nxt3 = max_pooling(image_nxt2,2)\n",
        "    image_nxt4 = gap(image_nxt3)\n",
        "    image_nxt5 = mlp(image_nxt4,sigmoid,1,[image_nxt4.shape[0]],10)\n",
        "    return image_nxt5\n",
        "\n"
      ]
    },
    {
      "cell_type": "code",
      "execution_count": 17,
      "metadata": {},
      "outputs": [
        {
          "name": "stdout",
          "output_type": "stream",
          "text": [
            "Files already downloaded and verified\n"
          ]
        }
      ],
      "source": [
        "#IMPORTING IMAGES FROM CIFAR10\n",
        "dataset = datasets.CIFAR10(root='./data',train=False,download=True,transform=transforms.ToTensor())"
      ]
    },
    {
      "cell_type": "markdown",
      "metadata": {},
      "source": [
        "QUESTION 8-a"
      ]
    },
    {
      "cell_type": "code",
      "execution_count": 20,
      "metadata": {},
      "outputs": [
        {
          "name": "stdout",
          "output_type": "stream",
          "text": [
            "torch.Size([8, 6, 6])\n",
            "torch.Size([6, 6])\n",
            "torch.Size([6])\n",
            "Output for image with label = 3 is tensor([0.0946, 0.1021, 0.1026, 0.0971, 0.1054, 0.0980, 0.1051, 0.1012, 0.1021,\n",
            "        0.0918])\n",
            "\n",
            "\n",
            "\n",
            "torch.Size([8, 6, 6])\n",
            "torch.Size([6, 6])\n",
            "torch.Size([6])\n",
            "Output for image with label = 8 is tensor([0.1044, 0.0995, 0.0915, 0.1034, 0.1001, 0.0984, 0.1028, 0.1052, 0.1065,\n",
            "        0.0881])\n",
            "\n",
            "\n",
            "\n",
            "torch.Size([8, 6, 6])\n",
            "torch.Size([6, 6])\n",
            "torch.Size([6])\n",
            "Output for image with label = 8 is tensor([0.1010, 0.0996, 0.1033, 0.0996, 0.1017, 0.0934, 0.1047, 0.0962, 0.1004,\n",
            "        0.1002])\n",
            "\n",
            "\n",
            "\n",
            "torch.Size([8, 6, 6])\n",
            "torch.Size([6, 6])\n",
            "torch.Size([6])\n",
            "Output for image with label = 0 is tensor([0.1002, 0.0994, 0.1021, 0.1024, 0.1016, 0.1024, 0.0879, 0.0997, 0.1054,\n",
            "        0.0989])\n",
            "\n",
            "\n",
            "\n",
            "torch.Size([8, 6, 6])\n",
            "torch.Size([6, 6])\n",
            "torch.Size([6])\n",
            "Output for image with label = 6 is tensor([0.0989, 0.1035, 0.0974, 0.1043, 0.0999, 0.0985, 0.0911, 0.1038, 0.1011,\n",
            "        0.1015])\n",
            "\n",
            "\n",
            "\n",
            "torch.Size([8, 6, 6])\n",
            "torch.Size([6, 6])\n",
            "torch.Size([6])\n",
            "Output for image with label = 6 is tensor([0.1050, 0.1024, 0.1048, 0.0997, 0.0968, 0.1021, 0.1009, 0.0851, 0.1044,\n",
            "        0.0989])\n",
            "\n",
            "\n",
            "\n",
            "torch.Size([8, 6, 6])\n",
            "torch.Size([6, 6])\n",
            "torch.Size([6])\n",
            "Output for image with label = 1 is tensor([0.1013, 0.0953, 0.0976, 0.1000, 0.1013, 0.1018, 0.1023, 0.0963, 0.1012,\n",
            "        0.1029])\n",
            "\n",
            "\n",
            "\n",
            "torch.Size([8, 6, 6])\n",
            "torch.Size([6, 6])\n",
            "torch.Size([6])\n",
            "Output for image with label = 6 is tensor([0.1004, 0.1028, 0.0948, 0.1013, 0.1024, 0.1003, 0.0984, 0.1034, 0.0961,\n",
            "        0.1002])\n",
            "\n",
            "\n",
            "\n",
            "torch.Size([8, 6, 6])\n",
            "torch.Size([6, 6])\n",
            "torch.Size([6])\n",
            "Output for image with label = 3 is tensor([0.1003, 0.1047, 0.0994, 0.1027, 0.0936, 0.0954, 0.1012, 0.1027, 0.0967,\n",
            "        0.1032])\n",
            "\n",
            "\n",
            "\n",
            "torch.Size([8, 6, 6])\n",
            "torch.Size([6, 6])\n",
            "torch.Size([6])\n",
            "Output for image with label = 1 is tensor([0.0977, 0.1028, 0.1025, 0.0935, 0.1023, 0.0991, 0.1015, 0.0982, 0.1012,\n",
            "        0.1012])\n",
            "\n",
            "\n",
            "\n"
          ]
        }
      ],
      "source": [
        "# printing outputs for 10 images from CIFAR10\n",
        "for i in range(10):\n",
        "    output = feed_forward(dataset[i][0])\n",
        "    print(f\"Output for image with label = {dataset[i][1]} is {output}\\n\\n\\n\")"
      ]
    }
  ],
  "metadata": {
    "colab": {
      "provenance": []
    },
    "kernelspec": {
      "display_name": "Python 3.10.6 64-bit",
      "language": "python",
      "name": "python3"
    },
    "language_info": {
      "codemirror_mode": {
        "name": "ipython",
        "version": 3
      },
      "file_extension": ".py",
      "mimetype": "text/x-python",
      "name": "python",
      "nbconvert_exporter": "python",
      "pygments_lexer": "ipython3",
      "version": "3.10.6"
    },
    "vscode": {
      "interpreter": {
        "hash": "916dbcbb3f70747c44a77c7bcd40155683ae19c65e1c03b4aa3499c5328201f1"
      }
    }
  },
  "nbformat": 4,
  "nbformat_minor": 0
}
